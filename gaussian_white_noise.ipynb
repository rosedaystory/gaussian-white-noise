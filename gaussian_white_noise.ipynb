{
 "cells": [
  {
   "cell_type": "code",
   "execution_count": 18,
   "metadata": {
    "collapsed": false
   },
   "outputs": [],
   "source": [
    "from sklearn.datasets import make_regression\n",
    "import numpy as np\n",
    "import scipy as sp\n",
    "import scipy.stats as stats\n",
    "import matplotlib.pyplot as plt\n",
    "import pandas as pd\n",
    "import seaborn as sns\n",
    "import sklearn as sk\n",
    "import statsmodels.api as sm\n",
    "import statsmodels.formula.api as smf\n",
    "import matplotlib as mpl\n",
    "from ipykernel import kernelapp as app"
   ]
  },
  {
   "cell_type": "code",
   "execution_count": 35,
   "metadata": {
    "collapsed": false
   },
   "outputs": [],
   "source": [
    "# make white noise, n_data = number of data, n_length = length of each data\n",
    "\n",
    "class White(object):\n",
    "    \"\"\"\n",
    "    make gaussian white noise!!\n",
    "    n_data = number of data\n",
    "    n_length = length of each data\n",
    "    \"\"\"\n",
    "    \n",
    "    def __init__(self, n_data, n_length):\n",
    "        \"\"\"\n",
    "        at self.white timeseriese are in direction of row \n",
    "        at self.df_white timesiriese are in column direction\n",
    "        \"\"\"\n",
    "        self.n_data = n_data\n",
    "        self.n_length = n_length\n",
    "        self.white = np.random.randn(n_data,n_length)\n",
    "        self.df_white = pd.DataFrame(self.white.T)\n",
    "        \n",
    "    def draw(self):\n",
    "        \"\"\"\n",
    "        draw all serieses\n",
    "        \"\"\"\n",
    "        \n",
    "        plt.plot(range(1,self.n_length+1), self.white.T)\n",
    "        plt.show()\n",
    "        \n",
    "    def drawthe(self, k):\n",
    "        \"\"\"\n",
    "        draw the kth seriese\n",
    "        \"\"\"\n",
    "        plt.plot(range(self.n_length), self.df_white[k-1])\n",
    "        plt.show()\n",
    "        \n",
    "    def std(self,ensemble=True):\n",
    "        \"\"\"\n",
    "        calculate standard deviation\n",
    "        if ensemble = true, it calculate ensemble std for white noise// default = true\n",
    "        if ensemble = False, it calculate each timeseriese`s std\n",
    "        \"\"\"\n",
    "        if ensemble ==True:\n",
    "            k = 0\n",
    "        elif ensemble == False:\n",
    "            k = 1\n",
    "        else:\n",
    "            print(\"error!!\")\n",
    "        return self.white.std(axis=k)\n",
    "\n",
    "    def std2(self):\n",
    "        a = np.random.randn(len(self.df_white[0]),len(self.df_white[0]))\n",
    "        b = self.std()\n",
    "        for i in range(len(self.df_white[0])):\n",
    "            for j in range(len(self.df_white[0])):\n",
    "                a[i][j] = b[i]*b[j]\n",
    "        return a       \n",
    "        \n",
    "    \n",
    "    def mean(self,ensemble=True):\n",
    "        \"\"\"\n",
    "        calculate mean\n",
    "        if ensemble = true, it calculate ensemble mean for white noise// default = true\n",
    "        if ensemble = False, it calculate each timeseriese`s mean\n",
    "        \"\"\"\n",
    "        if ensemble ==True:\n",
    "            k = 0\n",
    "        elif ensemble == False:\n",
    "            k = 1\n",
    "        else:\n",
    "            print(\"error!!\")\n",
    "        return self.white.mean(axis=k)\n",
    "    \n",
    "    def cov(self, k, s):\n",
    "        \"\"\"\n",
    "        calculate cov of kth and sth of timeseriese\n",
    "        \"\"\"\n",
    "        return ((self.white[:,k] - self.white[:,k].mean()) * (self.white[:,s] - self.white[:,s].mean())).mean()\n",
    "    def cov_all(self):\n",
    "        \"\"\"\n",
    "        calculate all covariance and return it as n by n list\n",
    "        \"\"\"\n",
    "        s = pd.DataFrame(self.white - self.white.mean())\n",
    "        a = np.random.rand(len(self.white[0]),len(self.white[0]))\n",
    "        for i in range(len(self.white[0])):\n",
    "            for j in range(len(self.white[0])):\n",
    "                   a[i][j]=self.cov(i,j)\n",
    "        return a\n",
    "   \n",
    "    def lo(self, k, s):\n",
    "        \"\"\"\n",
    "        calculate cov of kth and sth of timeseriese\n",
    "        \"\"\"\n",
    "        return self.cov(k,s) / self.std()[k] / self.std()[s]\n",
    "    \n",
    "    def lo_all(self):\n",
    "        \"\"\"\n",
    "        calculate all lo and return it as n by n list\n",
    "        \"\"\"\n",
    "        a = self.cov_all()/self.std2()\n",
    "        return a"
   ]
  },
  {
   "cell_type": "code",
   "execution_count": null,
   "metadata": {
    "collapsed": false
   },
   "outputs": [],
   "source": []
  },
  {
   "cell_type": "code",
   "execution_count": null,
   "metadata": {
    "collapsed": false,
    "scrolled": true
   },
   "outputs": [],
   "source": []
  },
  {
   "cell_type": "code",
   "execution_count": null,
   "metadata": {
    "collapsed": false,
    "scrolled": true
   },
   "outputs": [],
   "source": []
  },
  {
   "cell_type": "code",
   "execution_count": null,
   "metadata": {
    "collapsed": false
   },
   "outputs": [],
   "source": []
  },
  {
   "cell_type": "code",
   "execution_count": null,
   "metadata": {
    "collapsed": true
   },
   "outputs": [],
   "source": []
  }
 ],
 "metadata": {
  "kernelspec": {
   "display_name": "Python 2",
   "language": "python",
   "name": "python2"
  },
  "language_info": {
   "codemirror_mode": {
    "name": "ipython",
    "version": 2
   },
   "file_extension": ".py",
   "mimetype": "text/x-python",
   "name": "python",
   "nbconvert_exporter": "python",
   "pygments_lexer": "ipython2",
   "version": "2.7.13"
  }
 },
 "nbformat": 4,
 "nbformat_minor": 2
}
